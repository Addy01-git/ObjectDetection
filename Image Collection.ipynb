{
 "cells": [
  {
   "cell_type": "code",
   "execution_count": null,
   "metadata": {},
   "outputs": [],
   "source": [
    "import cv2\n",
    "import os\n",
    "import time\n",
    "import uuid"
   ]
  },
  {
   "cell_type": "code",
   "execution_count": null,
   "metadata": {},
   "outputs": [],
   "source": [
    "# save location\n",
    "IMAGES_PATH = 'TensorFlow/workspace/images/collectedimages'\n",
    "\n",
    "# 15 images for each label\n",
    "labels = ['hello', 'thanks', 'yes', 'no', 'iloveyou']\n",
    "number_imgs = 25\n"
   ]
  },
  {
   "cell_type": "code",
   "execution_count": null,
   "metadata": {},
   "outputs": [],
   "source": [
    "cap = cv2.VideoCapture(0)\n",
    "\n",
    "for label in labels:\n",
    "    num_images_for_label = number_imgs\n",
    "    print('collecting images for {}'.format(label))\n",
    "    \n",
    "    # making a new directory for each label for storing the collected images there\n",
    "    !mkdir {'TensorFlow\\workspace\\images\\collectedimages\\\\'+label}\n",
    "    \n",
    "    while True:\n",
    "        ret, frame = cap.read()\n",
    "        # gray = cv2.cvtColor(frame, cv2.COLOR_BGR2GRAY)\n",
    "        cv2.imshow('frame', frame)\n",
    "        \n",
    "        # save picture on key press 'k'\n",
    "        if cv2.waitKey(1) & 0xFF == ord('k'):\n",
    "            \n",
    "            # tells imwrite where to save the picture and creates unique id for each image taken\n",
    "            imgname = os.path.join(IMAGES_PATH, label, label+'.'+'{}.jpg'.format(str(uuid.uuid1())))\n",
    "            \n",
    "\n",
    "            # saves the images to the created directory\n",
    "            write_status = cv2.imwrite(imgname, gray)\n",
    "            \n",
    "            num_images_for_label -= 1\n",
    "            \n",
    "            # helpful information printed to console\n",
    "            if num_images_for_label != 0 and write_status == True:\n",
    "                print('Saved, {} left for {}'.format(num_images_for_label, label))\n",
    "\n",
    "        # goes to next label on key press of 'q' or when number of images for current label becomes 0\n",
    "        elif (cv2.waitKey(1) & 0xFF == ord('q')) or num_images_for_label == 0:\n",
    "            break\n",
    "            \n",
    "cv2.destroyAllWindows()\n",
    "cap.release()\n",
    "        \n"
   ]
  },
  {
   "cell_type": "code",
   "execution_count": null,
   "metadata": {},
   "outputs": [],
   "source": []
  }
 ],
 "metadata": {
  "kernelspec": {
   "display_name": "Python 3",
   "language": "python",
   "name": "python3"
  },
  "language_info": {
   "codemirror_mode": {
    "name": "ipython",
    "version": 3
   },
   "file_extension": ".py",
   "mimetype": "text/x-python",
   "name": "python",
   "nbconvert_exporter": "python",
   "pygments_lexer": "ipython3",
   "version": "3.7.3"
  }
 },
 "nbformat": 4,
 "nbformat_minor": 5
}
